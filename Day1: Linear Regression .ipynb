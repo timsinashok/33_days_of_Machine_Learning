{
 "cells": [
  {
   "cell_type": "markdown",
   "metadata": {},
   "source": [
    "# Day 1: Linear Regression\n",
    "Linear Regression has 2 forms: \n",
    "- Closed Form \n",
    "- Gradient Descent\n",
    "\n",
    "Today I explored how Linear Regression can be done using Closed From / Normal Solution. \n",
    "\n",
    "Just a quick note on why Normal Equation is not used in practice:\n",
    "- It is computationally expensive when the number of features is large.\n",
    "- It is slow when the number of training examples is large.\n",
    "- It is based on the inverse of the matrix, which is not always possible."
   ]
  },
  {
   "cell_type": "code",
   "execution_count": null,
   "metadata": {},
   "outputs": [],
   "source": []
  },
  {
   "cell_type": "code",
   "execution_count": null,
   "metadata": {},
   "outputs": [],
   "source": []
  }
 ],
 "metadata": {
  "language_info": {
   "name": "python"
  }
 },
 "nbformat": 4,
 "nbformat_minor": 2
}
